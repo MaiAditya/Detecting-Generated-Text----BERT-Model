{
  "metadata": {
    "kernelspec": {
      "language": "python",
      "display_name": "Python 3",
      "name": "python3"
    },
    "language_info": {
      "name": "python",
      "version": "3.10.13",
      "mimetype": "text/x-python",
      "codemirror_mode": {
        "name": "ipython",
        "version": 3
      },
      "pygments_lexer": "ipython3",
      "nbconvert_exporter": "python",
      "file_extension": ".py"
    },
    "kaggle": {
      "accelerator": "nvidiaTeslaT4",
      "dataSources": [
        {
          "sourceId": 61542,
          "databundleVersionId": 7516023,
          "sourceType": "competition"
        }
      ],
      "dockerImageVersionId": 30733,
      "isInternetEnabled": true,
      "language": "python",
      "sourceType": "notebook",
      "isGpuEnabled": true
    },
    "colab": {
      "provenance": [],
      "include_colab_link": true
    }
  },
  "nbformat_minor": 0,
  "nbformat": 4,
  "cells": [
    {
      "cell_type": "markdown",
      "metadata": {
        "id": "view-in-github",
        "colab_type": "text"
      },
      "source": [
        "<a href=\"https://colab.research.google.com/github/MaiAditya/Detecting-Generated-Text----BERT-Model/blob/main/DetectingGeneratedTextUsingBERT.ipynb\" target=\"_parent\"><img src=\"https://colab.research.google.com/assets/colab-badge.svg\" alt=\"Open In Colab\"/></a>"
      ]
    },
    {
      "cell_type": "code",
      "source": [
        "# This Python 3 environment comes with many helpful analytics libraries installed\n",
        "# It is defined by the kaggle/python Docker image: https://github.com/kaggle/docker-python\n",
        "# For example, here's several helpful packages to load\n",
        "\n",
        "import numpy as np # linear algebra\n",
        "import pandas as pd # data processing, CSV file I/O (e.g. pd.read_csv)\n",
        "\n",
        "# Input data files are available in the read-only \"../input/\" directory\n",
        "# For example, running this (by clicking run or pressing Shift+Enter) will list all files under the input directory\n",
        "\n",
        "import os\n",
        "for dirname, _, filenames in os.walk('/kaggle/input'):\n",
        "    for filename in filenames:\n",
        "        print(os.path.join(dirname, filename))\n",
        "\n",
        "# You can write up to 20GB to the current directory (/kaggle/working/) that gets preserved as output when you create a version using \"Save & Run All\"\n",
        "# You can also write temporary files to /kaggle/temp/, but they won't be saved outside of the current session"
      ],
      "metadata": {
        "_uuid": "8f2839f25d086af736a60e9eeb907d3b93b6e0e5",
        "_cell_guid": "b1076dfc-b9ad-4769-8c92-a6c4dae69d19",
        "execution": {
          "iopub.status.busy": "2024-06-06T15:56:18.830882Z",
          "iopub.execute_input": "2024-06-06T15:56:18.831224Z",
          "iopub.status.idle": "2024-06-06T15:56:19.207457Z",
          "shell.execute_reply.started": "2024-06-06T15:56:18.831199Z",
          "shell.execute_reply": "2024-06-06T15:56:19.206575Z"
        },
        "trusted": true,
        "id": "ofN9yE8PaDwc",
        "outputId": "030eebce-b0c4-4ea2-8ba0-eb0873fe4477"
      },
      "execution_count": null,
      "outputs": [
        {
          "name": "stdout",
          "text": "/kaggle/input/llm-detect-ai-generated-text/sample_submission.csv\n/kaggle/input/llm-detect-ai-generated-text/train_prompts.csv\n/kaggle/input/llm-detect-ai-generated-text/test_essays.csv\n/kaggle/input/llm-detect-ai-generated-text/train_essays.csv\n",
          "output_type": "stream"
        }
      ]
    },
    {
      "cell_type": "code",
      "source": [
        "# Import necessary libraries\n",
        "import pandas as pd\n",
        "import numpy as np\n",
        "import matplotlib.pyplot as plt\n",
        "import seaborn as sns\n",
        "import re\n",
        "from nltk.corpus import stopwords\n",
        "from sklearn.model_selection import train_test_split\n",
        "from sklearn.metrics import accuracy_score, classification_report\n",
        "from transformers import BertTokenizer, BertForSequenceClassification, AdamW\n",
        "import torch\n",
        "from torch.utils.data import DataLoader, TensorDataset, random_split"
      ],
      "metadata": {
        "execution": {
          "iopub.status.busy": "2024-06-06T15:56:19.209126Z",
          "iopub.execute_input": "2024-06-06T15:56:19.209494Z",
          "iopub.status.idle": "2024-06-06T15:56:27.332523Z",
          "shell.execute_reply.started": "2024-06-06T15:56:19.209469Z",
          "shell.execute_reply": "2024-06-06T15:56:27.331548Z"
        },
        "trusted": true,
        "id": "HJsrvztcaDwf"
      },
      "execution_count": null,
      "outputs": []
    },
    {
      "cell_type": "code",
      "source": [
        "df=pd.read_csv(\"/kaggle/input/llm-detect-ai-generated-text/train_essays.csv\")\n",
        "df.head()"
      ],
      "metadata": {
        "execution": {
          "iopub.status.busy": "2024-06-06T15:56:27.333703Z",
          "iopub.execute_input": "2024-06-06T15:56:27.334230Z",
          "iopub.status.idle": "2024-06-06T15:56:27.455495Z",
          "shell.execute_reply.started": "2024-06-06T15:56:27.334197Z",
          "shell.execute_reply": "2024-06-06T15:56:27.454350Z"
        },
        "trusted": true,
        "id": "Otflcyu_aDwf",
        "outputId": "f358239e-6b75-4d59-e2d6-a62d2b803952"
      },
      "execution_count": null,
      "outputs": [
        {
          "execution_count": 4,
          "output_type": "execute_result",
          "data": {
            "text/plain": "         id  prompt_id                                               text  \\\n0  0059830c          0  Cars. Cars have been around since they became ...   \n1  005db917          0  Transportation is a large necessity in most co...   \n2  008f63e3          0  \"America's love affair with it's vehicles seem...   \n3  00940276          0  How often do you ride in a car? Do you drive a...   \n4  00c39458          0  Cars are a wonderful thing. They are perhaps o...   \n\n   generated  \n0          0  \n1          0  \n2          0  \n3          0  \n4          0  ",
            "text/html": "<div>\n<style scoped>\n    .dataframe tbody tr th:only-of-type {\n        vertical-align: middle;\n    }\n\n    .dataframe tbody tr th {\n        vertical-align: top;\n    }\n\n    .dataframe thead th {\n        text-align: right;\n    }\n</style>\n<table border=\"1\" class=\"dataframe\">\n  <thead>\n    <tr style=\"text-align: right;\">\n      <th></th>\n      <th>id</th>\n      <th>prompt_id</th>\n      <th>text</th>\n      <th>generated</th>\n    </tr>\n  </thead>\n  <tbody>\n    <tr>\n      <th>0</th>\n      <td>0059830c</td>\n      <td>0</td>\n      <td>Cars. Cars have been around since they became ...</td>\n      <td>0</td>\n    </tr>\n    <tr>\n      <th>1</th>\n      <td>005db917</td>\n      <td>0</td>\n      <td>Transportation is a large necessity in most co...</td>\n      <td>0</td>\n    </tr>\n    <tr>\n      <th>2</th>\n      <td>008f63e3</td>\n      <td>0</td>\n      <td>\"America's love affair with it's vehicles seem...</td>\n      <td>0</td>\n    </tr>\n    <tr>\n      <th>3</th>\n      <td>00940276</td>\n      <td>0</td>\n      <td>How often do you ride in a car? Do you drive a...</td>\n      <td>0</td>\n    </tr>\n    <tr>\n      <th>4</th>\n      <td>00c39458</td>\n      <td>0</td>\n      <td>Cars are a wonderful thing. They are perhaps o...</td>\n      <td>0</td>\n    </tr>\n  </tbody>\n</table>\n</div>"
          },
          "metadata": {}
        }
      ]
    },
    {
      "cell_type": "code",
      "source": [
        "# Load the training and testing datasets\n",
        "train_essays = pd.read_csv(\"/kaggle/input/llm-detect-ai-generated-text/train_essays.csv\")\n",
        "test_essays = pd.read_csv(\"/kaggle/input/llm-detect-ai-generated-text/test_essays.csv\")"
      ],
      "metadata": {
        "execution": {
          "iopub.status.busy": "2024-06-06T15:56:27.459501Z",
          "iopub.execute_input": "2024-06-06T15:56:27.459840Z",
          "iopub.status.idle": "2024-06-06T15:56:27.513982Z",
          "shell.execute_reply.started": "2024-06-06T15:56:27.459790Z",
          "shell.execute_reply": "2024-06-06T15:56:27.512980Z"
        },
        "trusted": true,
        "id": "0yCxb5ZVaDwf"
      },
      "execution_count": null,
      "outputs": []
    },
    {
      "cell_type": "code",
      "source": [
        "# Explore the training data\n",
        "train_essays.info()"
      ],
      "metadata": {
        "execution": {
          "iopub.status.busy": "2024-06-06T15:56:27.515346Z",
          "iopub.execute_input": "2024-06-06T15:56:27.515725Z",
          "iopub.status.idle": "2024-06-06T15:56:27.543015Z",
          "shell.execute_reply.started": "2024-06-06T15:56:27.515691Z",
          "shell.execute_reply": "2024-06-06T15:56:27.541972Z"
        },
        "trusted": true,
        "id": "o_DjN5gWaDwg",
        "outputId": "9e54ce02-4486-439c-f4e9-67fc402990ef"
      },
      "execution_count": null,
      "outputs": [
        {
          "name": "stdout",
          "text": "<class 'pandas.core.frame.DataFrame'>\nRangeIndex: 1378 entries, 0 to 1377\nData columns (total 4 columns):\n #   Column     Non-Null Count  Dtype \n---  ------     --------------  ----- \n 0   id         1378 non-null   object\n 1   prompt_id  1378 non-null   int64 \n 2   text       1378 non-null   object\n 3   generated  1378 non-null   int64 \ndtypes: int64(2), object(2)\nmemory usage: 43.2+ KB\n",
          "output_type": "stream"
        }
      ]
    },
    {
      "cell_type": "code",
      "source": [
        "# Check for class balance\n",
        "sns.countplot(data=train_essays, x='generated')\n",
        "plt.show()"
      ],
      "metadata": {
        "execution": {
          "iopub.status.busy": "2024-06-06T15:56:27.544353Z",
          "iopub.execute_input": "2024-06-06T15:56:27.544736Z",
          "iopub.status.idle": "2024-06-06T15:56:27.785497Z",
          "shell.execute_reply.started": "2024-06-06T15:56:27.544700Z",
          "shell.execute_reply": "2024-06-06T15:56:27.784597Z"
        },
        "trusted": true,
        "id": "ZlwKJ96waDwg",
        "outputId": "0bb9514f-1774-4a1b-ab2f-622793c91150"
      },
      "execution_count": null,
      "outputs": [
        {
          "output_type": "display_data",
          "data": {
            "text/plain": "<Figure size 640x480 with 1 Axes>",
            "image/png": "[encoded data removed]"
          },
          "metadata": {}
        }
      ]
    },
    {
      "cell_type": "code",
      "source": [
        "test_essays.info()"
      ],
      "metadata": {
        "execution": {
          "iopub.status.busy": "2024-06-06T15:56:27.786628Z",
          "iopub.execute_input": "2024-06-06T15:56:27.786942Z",
          "iopub.status.idle": "2024-06-06T15:56:27.797106Z",
          "shell.execute_reply.started": "2024-06-06T15:56:27.786916Z",
          "shell.execute_reply": "2024-06-06T15:56:27.795946Z"
        },
        "trusted": true,
        "id": "E9GAdIyvaDwg",
        "outputId": "c73b4285-3fb0-4abf-efba-495d60d98873"
      },
      "execution_count": null,
      "outputs": [
        {
          "name": "stdout",
          "text": "<class 'pandas.core.frame.DataFrame'>\nRangeIndex: 3 entries, 0 to 2\nData columns (total 3 columns):\n #   Column     Non-Null Count  Dtype \n---  ------     --------------  ----- \n 0   id         3 non-null      object\n 1   prompt_id  3 non-null      int64 \n 2   text       3 non-null      object\ndtypes: int64(1), object(2)\nmemory usage: 200.0+ bytes\n",
          "output_type": "stream"
        }
      ]
    },
    {
      "cell_type": "code",
      "source": [
        "import re\n",
        "import nltk\n",
        "from nltk.corpus import stopwords\n",
        "\n",
        "# Make sure to download the stopwords if you haven't already\n",
        "# nltk.download('stopwords')\n",
        "\n",
        "# Set of English stopwords\n",
        "stop_words = set(stopwords.words('english'))\n",
        "\n",
        "def clean_text(text):\n",
        "    \"\"\"\n",
        "    Function to clean text by removing punctuation, lowercasing,\n",
        "    removing non-alphabetic words, and removing stop words.\n",
        "\n",
        "    Parameters:\n",
        "    text (str): The input text to be cleaned.\n",
        "\n",
        "    Returns:\n",
        "    str: The cleaned text.\n",
        "    \"\"\"\n",
        "    # Remove punctuation using regex\n",
        "    text = re.sub(r'[^\\w\\s]', '', text)\n",
        "\n",
        "    # Tokenize the text by splitting into words\n",
        "    words = text.split()\n",
        "\n",
        "    # Convert words to lowercase and remove non-alphabetic words\n",
        "    words = [word.lower() for word in words if word.isalpha()]\n",
        "\n",
        "    # Remove stop words\n",
        "    words = [word for word in words if word not in stop_words]\n",
        "\n",
        "    # Join the words back into a single string and return\n",
        "    return ' '.join(words)\n",
        "\n",
        "# Apply the clean_text function to the 'text' column of the DataFrame\n",
        "train_essays['clean_text'] = train_essays['text'].apply(clean_text)\n"
      ],
      "metadata": {
        "execution": {
          "iopub.status.busy": "2024-06-06T15:56:27.798275Z",
          "iopub.execute_input": "2024-06-06T15:56:27.798549Z",
          "iopub.status.idle": "2024-06-06T15:56:28.282009Z",
          "shell.execute_reply.started": "2024-06-06T15:56:27.798525Z",
          "shell.execute_reply": "2024-06-06T15:56:28.281162Z"
        },
        "trusted": true,
        "id": "xf1v7-bWaDwg"
      },
      "execution_count": null,
      "outputs": []
    },
    {
      "cell_type": "code",
      "source": [
        "# Split the data into training and validation sets\n",
        "X_train, X_val, y_train, y_val = train_test_split(train_essays['clean_text'], train_essays['generated'], test_size=0.2, random_state=42)"
      ],
      "metadata": {
        "execution": {
          "iopub.status.busy": "2024-06-06T15:56:28.283538Z",
          "iopub.execute_input": "2024-06-06T15:56:28.284332Z",
          "iopub.status.idle": "2024-06-06T15:56:28.293213Z",
          "shell.execute_reply.started": "2024-06-06T15:56:28.284299Z",
          "shell.execute_reply": "2024-06-06T15:56:28.292302Z"
        },
        "trusted": true,
        "id": "LhyvbmQXaDwg"
      },
      "execution_count": null,
      "outputs": []
    },
    {
      "cell_type": "code",
      "source": [
        "# Tokenization and Encoding for BERT\n",
        "tokenizer = BertTokenizer.from_pretrained('bert-base-uncased', do_lower_case=True, padding=True, truncation=True, max_length=128)"
      ],
      "metadata": {
        "execution": {
          "iopub.status.busy": "2024-06-06T15:56:28.297122Z",
          "iopub.execute_input": "2024-06-06T15:56:28.297393Z",
          "iopub.status.idle": "2024-06-06T15:56:29.389871Z",
          "shell.execute_reply.started": "2024-06-06T15:56:28.297369Z",
          "shell.execute_reply": "2024-06-06T15:56:29.388956Z"
        },
        "trusted": true,
        "id": "k6ri33aVaDwg",
        "outputId": "b7d5341f-a924-4d11-adeb-0d88eb3937ca",
        "colab": {
          "referenced_widgets": [
            "5aa1357eb18d49c49ada2a597cfb8620",
            "41cd4b6831bc47d1b4d53ff6508b1b63",
            "2410c86235c84d1d84c4523f28d34f15",
            "2aed9eefc08d4b46999952b445fa73cb"
          ]
        }
      },
      "execution_count": null,
      "outputs": [
        {
          "output_type": "display_data",
          "data": {
            "text/plain": "tokenizer_config.json:   0%|          | 0.00/48.0 [00:00<?, ?B/s]",
            "application/vnd.jupyter.widget-view+json": {
              "version_major": 2,
              "version_minor": 0,
              "model_id": "5aa1357eb18d49c49ada2a597cfb8620"
            }
          },
          "metadata": {}
        },
        {
          "output_type": "display_data",
          "data": {
            "text/plain": "vocab.txt:   0%|          | 0.00/232k [00:00<?, ?B/s]",
            "application/vnd.jupyter.widget-view+json": {
              "version_major": 2,
              "version_minor": 0,
              "model_id": "41cd4b6831bc47d1b4d53ff6508b1b63"
            }
          },
          "metadata": {}
        },
        {
          "output_type": "display_data",
          "data": {
            "text/plain": "tokenizer.json:   0%|          | 0.00/466k [00:00<?, ?B/s]",
            "application/vnd.jupyter.widget-view+json": {
              "version_major": 2,
              "version_minor": 0,
              "model_id": "2410c86235c84d1d84c4523f28d34f15"
            }
          },
          "metadata": {}
        },
        {
          "name": "stderr",
          "text": "/opt/conda/lib/python3.10/site-packages/huggingface_hub/file_download.py:1132: FutureWarning: `resume_download` is deprecated and will be removed in version 1.0.0. Downloads always resume when possible. If you want to force a new download, use `force_download=True`.\n  warnings.warn(\n",
          "output_type": "stream"
        },
        {
          "output_type": "display_data",
          "data": {
            "text/plain": "config.json:   0%|          | 0.00/570 [00:00<?, ?B/s]",
            "application/vnd.jupyter.widget-view+json": {
              "version_major": 2,
              "version_minor": 0,
              "model_id": "2aed9eefc08d4b46999952b445fa73cb"
            }
          },
          "metadata": {}
        }
      ]
    },
    {
      "cell_type": "code",
      "source": [
        "encoded_train = tokenizer(X_train.tolist(), padding=True, truncation=True, return_tensors='pt')\n",
        "encoded_val = tokenizer(X_val.tolist(), padding=True, truncation=True, return_tensors='pt')"
      ],
      "metadata": {
        "execution": {
          "iopub.status.busy": "2024-06-06T15:56:29.391226Z",
          "iopub.execute_input": "2024-06-06T15:56:29.391582Z",
          "iopub.status.idle": "2024-06-06T15:56:48.023248Z",
          "shell.execute_reply.started": "2024-06-06T15:56:29.391550Z",
          "shell.execute_reply": "2024-06-06T15:56:48.022386Z"
        },
        "trusted": true,
        "id": "xvkYbkwJaDwh"
      },
      "execution_count": null,
      "outputs": []
    },
    {
      "cell_type": "code",
      "source": [
        "# Convert labels to tensors\n",
        "train_labels = torch.tensor(y_train.values)\n",
        "val_labels = torch.tensor(y_val.values)"
      ],
      "metadata": {
        "execution": {
          "iopub.status.busy": "2024-06-06T15:56:48.024459Z",
          "iopub.execute_input": "2024-06-06T15:56:48.024770Z",
          "iopub.status.idle": "2024-06-06T15:56:48.050059Z",
          "shell.execute_reply.started": "2024-06-06T15:56:48.024742Z",
          "shell.execute_reply": "2024-06-06T15:56:48.049342Z"
        },
        "trusted": true,
        "id": "EdNMjcVWaDwh"
      },
      "execution_count": null,
      "outputs": []
    },
    {
      "cell_type": "code",
      "source": [
        "# Create TensorDatasets\n",
        "train_dataset = TensorDataset(encoded_train['input_ids'], encoded_train['attention_mask'], train_labels)\n",
        "val_dataset = TensorDataset(encoded_val['input_ids'], encoded_val['attention_mask'], val_labels)"
      ],
      "metadata": {
        "execution": {
          "iopub.status.busy": "2024-06-06T15:56:48.051027Z",
          "iopub.execute_input": "2024-06-06T15:56:48.051296Z",
          "iopub.status.idle": "2024-06-06T15:56:48.057287Z",
          "shell.execute_reply.started": "2024-06-06T15:56:48.051274Z",
          "shell.execute_reply": "2024-06-06T15:56:48.056289Z"
        },
        "trusted": true,
        "id": "y6jMFLcsaDwh"
      },
      "execution_count": null,
      "outputs": []
    },
    {
      "cell_type": "code",
      "source": [
        "# DataLoader for efficient processing\n",
        "train_loader = DataLoader(train_dataset, batch_size=16, shuffle=True)\n",
        "val_loader = DataLoader(val_dataset, batch_size=16, shuffle=False)"
      ],
      "metadata": {
        "execution": {
          "iopub.status.busy": "2024-06-06T15:56:48.058308Z",
          "iopub.execute_input": "2024-06-06T15:56:48.058570Z",
          "iopub.status.idle": "2024-06-06T15:56:48.065884Z",
          "shell.execute_reply.started": "2024-06-06T15:56:48.058547Z",
          "shell.execute_reply": "2024-06-06T15:56:48.064982Z"
        },
        "trusted": true,
        "id": "mMG0-IWcaDwh"
      },
      "execution_count": null,
      "outputs": []
    },
    {
      "cell_type": "code",
      "source": [
        "# Define the BERT model for sequence classification\n",
        "model = BertForSequenceClassification.from_pretrained('bert-base-uncased', num_labels=2)\n",
        "device = torch.device(\"cuda\" if torch.cuda.is_available() else \"cpu\")\n",
        "model.to(device)"
      ],
      "metadata": {
        "execution": {
          "iopub.status.busy": "2024-06-06T15:56:48.067217Z",
          "iopub.execute_input": "2024-06-06T15:56:48.068072Z",
          "iopub.status.idle": "2024-06-06T15:56:51.430903Z",
          "shell.execute_reply.started": "2024-06-06T15:56:48.068046Z",
          "shell.execute_reply": "2024-06-06T15:56:51.430043Z"
        },
        "trusted": true,
        "id": "9E7OVU8OaDwh",
        "outputId": "b989c981-6401-49a3-9c65-f28cdefd6b84",
        "colab": {
          "referenced_widgets": [
            "1f00a4aae2004bc5ab96ef889f983991"
          ]
        }
      },
      "execution_count": null,
      "outputs": [
        {
          "output_type": "display_data",
          "data": {
            "text/plain": "model.safetensors:   0%|          | 0.00/440M [00:00<?, ?B/s]",
            "application/vnd.jupyter.widget-view+json": {
              "version_major": 2,
              "version_minor": 0,
              "model_id": "1f00a4aae2004bc5ab96ef889f983991"
            }
          },
          "metadata": {}
        },
        {
          "name": "stderr",
          "text": "Some weights of BertForSequenceClassification were not initialized from the model checkpoint at bert-base-uncased and are newly initialized: ['classifier.bias', 'classifier.weight']\nYou should probably TRAIN this model on a down-stream task to be able to use it for predictions and inference.\n",
          "output_type": "stream"
        },
        {
          "execution_count": 16,
          "output_type": "execute_result",
          "data": {
            "text/plain": "BertForSequenceClassification(\n  (bert): BertModel(\n    (embeddings): BertEmbeddings(\n      (word_embeddings): Embedding(30522, 768, padding_idx=0)\n      (position_embeddings): Embedding(512, 768)\n      (token_type_embeddings): Embedding(2, 768)\n      (LayerNorm): LayerNorm((768,), eps=1e-12, elementwise_affine=True)\n      (dropout): Dropout(p=0.1, inplace=False)\n    )\n    (encoder): BertEncoder(\n      (layer): ModuleList(\n        (0-11): 12 x BertLayer(\n          (attention): BertAttention(\n            (self): BertSdpaSelfAttention(\n              (query): Linear(in_features=768, out_features=768, bias=True)\n              (key): Linear(in_features=768, out_features=768, bias=True)\n              (value): Linear(in_features=768, out_features=768, bias=True)\n              (dropout): Dropout(p=0.1, inplace=False)\n            )\n            (output): BertSelfOutput(\n              (dense): Linear(in_features=768, out_features=768, bias=True)\n              (LayerNorm): LayerNorm((768,), eps=1e-12, elementwise_affine=True)\n              (dropout): Dropout(p=0.1, inplace=False)\n            )\n          )\n          (intermediate): BertIntermediate(\n            (dense): Linear(in_features=768, out_features=3072, bias=True)\n            (intermediate_act_fn): GELUActivation()\n          )\n          (output): BertOutput(\n            (dense): Linear(in_features=3072, out_features=768, bias=True)\n            (LayerNorm): LayerNorm((768,), eps=1e-12, elementwise_affine=True)\n            (dropout): Dropout(p=0.1, inplace=False)\n          )\n        )\n      )\n    )\n    (pooler): BertPooler(\n      (dense): Linear(in_features=768, out_features=768, bias=True)\n      (activation): Tanh()\n    )\n  )\n  (dropout): Dropout(p=0.1, inplace=False)\n  (classifier): Linear(in_features=768, out_features=2, bias=True)\n)"
          },
          "metadata": {}
        }
      ]
    },
    {
      "cell_type": "code",
      "source": [
        "# Define optimizer and learning rate scheduler\n",
        "optimizer = AdamW(model.parameters(), lr=1e-5, correct_bias=False)\n",
        "epochs = 15"
      ],
      "metadata": {
        "execution": {
          "iopub.status.busy": "2024-06-06T15:56:51.432168Z",
          "iopub.execute_input": "2024-06-06T15:56:51.432522Z",
          "iopub.status.idle": "2024-06-06T15:56:51.444126Z",
          "shell.execute_reply.started": "2024-06-06T15:56:51.432490Z",
          "shell.execute_reply": "2024-06-06T15:56:51.443182Z"
        },
        "trusted": true,
        "id": "PGqXyMXRaDwh",
        "outputId": "d841cff0-19e9-4ab9-bb58-8182a611e55c"
      },
      "execution_count": null,
      "outputs": [
        {
          "name": "stderr",
          "text": "/opt/conda/lib/python3.10/site-packages/transformers/optimization.py:588: FutureWarning: This implementation of AdamW is deprecated and will be removed in a future version. Use the PyTorch implementation torch.optim.AdamW instead, or set `no_deprecation_warning=True` to disable this warning\n  warnings.warn(\n",
          "output_type": "stream"
        }
      ]
    },
    {
      "cell_type": "code",
      "source": [
        "from tqdm import tqdm\n",
        "\n",
        "for epoch in range(epochs):\n",
        "    model.train()\n",
        "    total_loss = 0\n",
        "\n",
        "    # Initialize tqdm progress bar\n",
        "    progress_bar = tqdm(train_loader, desc=f\"Epoch {epoch+1}/{epochs}\")\n",
        "\n",
        "    for batch in progress_bar:\n",
        "        input_ids, attention_mask, labels = batch\n",
        "        input_ids, attention_mask, labels = input_ids.to(device), attention_mask.to(device), labels.to(device)\n",
        "\n",
        "        optimizer.zero_grad()\n",
        "\n",
        "        outputs = model(input_ids, attention_mask=attention_mask, labels=labels)\n",
        "        loss = outputs.loss\n",
        "        total_loss += loss.item()\n",
        "\n",
        "        loss.backward()\n",
        "        torch.nn.utils.clip_grad_norm_(model.parameters(), 1.0)  # Gradient clipping to avoid exploding gradients\n",
        "        optimizer.step()\n",
        "\n",
        "        # Update tqdm progress bar with the current loss\n",
        "        progress_bar.set_postfix(loss=loss.item())\n",
        "\n",
        "    avg_train_loss = total_loss / len(train_loader)\n",
        "    print(f\"Average training loss for epoch {epoch+1}: {avg_train_loss:.4f}\")\n"
      ],
      "metadata": {
        "execution": {
          "iopub.status.busy": "2024-06-06T15:56:51.445336Z",
          "iopub.execute_input": "2024-06-06T15:56:51.445594Z",
          "iopub.status.idle": "2024-06-06T16:22:03.521540Z",
          "shell.execute_reply.started": "2024-06-06T15:56:51.445571Z",
          "shell.execute_reply": "2024-06-06T16:22:03.520560Z"
        },
        "trusted": true,
        "id": "4GolxOz2aDwh",
        "outputId": "caffa3fb-a0c2-4ba5-9103-2f8190261716"
      },
      "execution_count": null,
      "outputs": [
        {
          "name": "stderr",
          "text": "Epoch 1/15: 100%|██████████| 69/69 [01:37<00:00,  1.42s/it, loss=0.000317]\n",
          "output_type": "stream"
        },
        {
          "name": "stdout",
          "text": "Average training loss for epoch 1: 0.0548\n",
          "output_type": "stream"
        },
        {
          "name": "stderr",
          "text": "Epoch 2/15: 100%|██████████| 69/69 [01:41<00:00,  1.47s/it, loss=0.000528]\n",
          "output_type": "stream"
        },
        {
          "name": "stdout",
          "text": "Average training loss for epoch 2: 0.0149\n",
          "output_type": "stream"
        },
        {
          "name": "stderr",
          "text": "Epoch 3/15: 100%|██████████| 69/69 [01:41<00:00,  1.46s/it, loss=0.00048] \n",
          "output_type": "stream"
        },
        {
          "name": "stdout",
          "text": "Average training loss for epoch 3: 0.0109\n",
          "output_type": "stream"
        },
        {
          "name": "stderr",
          "text": "Epoch 4/15: 100%|██████████| 69/69 [01:41<00:00,  1.47s/it, loss=0.000558]\n",
          "output_type": "stream"
        },
        {
          "name": "stdout",
          "text": "Average training loss for epoch 4: 0.0112\n",
          "output_type": "stream"
        },
        {
          "name": "stderr",
          "text": "Epoch 5/15: 100%|██████████| 69/69 [01:40<00:00,  1.46s/it, loss=0.000145]\n",
          "output_type": "stream"
        },
        {
          "name": "stdout",
          "text": "Average training loss for epoch 5: 0.0049\n",
          "output_type": "stream"
        },
        {
          "name": "stderr",
          "text": "Epoch 6/15: 100%|██████████| 69/69 [01:41<00:00,  1.46s/it, loss=0.000116]\n",
          "output_type": "stream"
        },
        {
          "name": "stdout",
          "text": "Average training loss for epoch 6: 0.0013\n",
          "output_type": "stream"
        },
        {
          "name": "stderr",
          "text": "Epoch 7/15: 100%|██████████| 69/69 [01:40<00:00,  1.46s/it, loss=8.07e-5] \n",
          "output_type": "stream"
        },
        {
          "name": "stdout",
          "text": "Average training loss for epoch 7: 0.0002\n",
          "output_type": "stream"
        },
        {
          "name": "stderr",
          "text": "Epoch 8/15: 100%|██████████| 69/69 [01:40<00:00,  1.46s/it, loss=6.7e-5] \n",
          "output_type": "stream"
        },
        {
          "name": "stdout",
          "text": "Average training loss for epoch 8: 0.0001\n",
          "output_type": "stream"
        },
        {
          "name": "stderr",
          "text": "Epoch 9/15: 100%|██████████| 69/69 [01:40<00:00,  1.46s/it, loss=5.63e-5] \n",
          "output_type": "stream"
        },
        {
          "name": "stdout",
          "text": "Average training loss for epoch 9: 0.0001\n",
          "output_type": "stream"
        },
        {
          "name": "stderr",
          "text": "Epoch 10/15: 100%|██████████| 69/69 [01:41<00:00,  1.46s/it, loss=5.47e-5] \n",
          "output_type": "stream"
        },
        {
          "name": "stdout",
          "text": "Average training loss for epoch 10: 0.0001\n",
          "output_type": "stream"
        },
        {
          "name": "stderr",
          "text": "Epoch 11/15: 100%|██████████| 69/69 [01:41<00:00,  1.46s/it, loss=5.08e-5] \n",
          "output_type": "stream"
        },
        {
          "name": "stdout",
          "text": "Average training loss for epoch 11: 0.0001\n",
          "output_type": "stream"
        },
        {
          "name": "stderr",
          "text": "Epoch 12/15: 100%|██████████| 69/69 [01:40<00:00,  1.46s/it, loss=3.88e-5] \n",
          "output_type": "stream"
        },
        {
          "name": "stdout",
          "text": "Average training loss for epoch 12: 0.0000\n",
          "output_type": "stream"
        },
        {
          "name": "stderr",
          "text": "Epoch 13/15: 100%|██████████| 69/69 [01:40<00:00,  1.46s/it, loss=3.51e-5] \n",
          "output_type": "stream"
        },
        {
          "name": "stdout",
          "text": "Average training loss for epoch 13: 0.0000\n",
          "output_type": "stream"
        },
        {
          "name": "stderr",
          "text": "Epoch 14/15: 100%|██████████| 69/69 [01:40<00:00,  1.46s/it, loss=3.89e-5] \n",
          "output_type": "stream"
        },
        {
          "name": "stdout",
          "text": "Average training loss for epoch 14: 0.0000\n",
          "output_type": "stream"
        },
        {
          "name": "stderr",
          "text": "Epoch 15/15: 100%|██████████| 69/69 [01:40<00:00,  1.46s/it, loss=3.19e-5] ",
          "output_type": "stream"
        },
        {
          "name": "stdout",
          "text": "Average training loss for epoch 15: 0.0000\n",
          "output_type": "stream"
        },
        {
          "name": "stderr",
          "text": "\n",
          "output_type": "stream"
        }
      ]
    },
    {
      "cell_type": "code",
      "source": [
        "# Validation loop\n",
        "model.eval()\n",
        "val_preds = []\n",
        "val_labels = []\n",
        "\n",
        "with torch.no_grad():\n",
        "    for batch in val_loader:\n",
        "        input_ids, attention_mask, labels = batch\n",
        "        input_ids, attention_mask, labels = input_ids.to(device), attention_mask.to(device), labels.to(device)\n",
        "\n",
        "        outputs = model(input_ids, attention_mask=attention_mask)\n",
        "        logits = outputs.logits\n",
        "\n",
        "        val_preds.extend(torch.argmax(logits, dim=1).cpu().numpy())\n",
        "        val_labels.extend(labels.cpu().numpy())"
      ],
      "metadata": {
        "execution": {
          "iopub.status.busy": "2024-06-06T16:22:03.524026Z",
          "iopub.execute_input": "2024-06-06T16:22:03.524327Z",
          "iopub.status.idle": "2024-06-06T16:22:11.642385Z",
          "shell.execute_reply.started": "2024-06-06T16:22:03.524301Z",
          "shell.execute_reply": "2024-06-06T16:22:11.641590Z"
        },
        "trusted": true,
        "id": "fg_WR1dQaDwh"
      },
      "execution_count": null,
      "outputs": []
    },
    {
      "cell_type": "code",
      "source": [
        "# Calculate validation accuracy\n",
        "val_accuracy = accuracy_score(val_labels, val_preds)\n",
        "print(f\"Validation Accuracy: {val_accuracy:.2f}\")"
      ],
      "metadata": {
        "execution": {
          "iopub.status.busy": "2024-06-06T16:22:11.643480Z",
          "iopub.execute_input": "2024-06-06T16:22:11.643834Z",
          "iopub.status.idle": "2024-06-06T16:22:11.651248Z",
          "shell.execute_reply.started": "2024-06-06T16:22:11.643795Z",
          "shell.execute_reply": "2024-06-06T16:22:11.650203Z"
        },
        "trusted": true,
        "id": "Il1ag4TmaDwi",
        "outputId": "63b87e26-872d-4893-e21d-eb0a2a628864"
      },
      "execution_count": null,
      "outputs": [
        {
          "name": "stdout",
          "text": "Validation Accuracy: 1.00\n",
          "output_type": "stream"
        }
      ]
    },
    {
      "cell_type": "code",
      "source": [
        "# Test data processing\n",
        "test_inputs = tokenizer(test_essays['text'].tolist(), padding=True, truncation=True, return_tensors='pt')\n",
        "\n",
        "# Move input tensor to the same device as the model\n",
        "test_inputs = {key: value.to(device) for key, value in test_inputs.items()}\n",
        "\n",
        "# Generate predictions using your trained model\n",
        "with torch.no_grad():\n",
        "    outputs = model(**test_inputs)\n",
        "    logits = outputs.logits\n",
        "\n",
        "# Assuming the first column of logits corresponds to the negative class (non-AI-generated)\n",
        "# and the second column corresponds to the positive class (AI-generated)\n",
        "predictions = torch.softmax(logits, dim=1)[:, 1].cpu().numpy()  # Move predictions back to CPU\n",
        "\n",
        "# Create a submission DataFrame with essay IDs and corresponding predictions\n",
        "submission = pd.DataFrame({\n",
        "    'id': test_essays['id'],\n",
        "    'generated': predictions\n",
        "})\n",
        "\n",
        "# Save the submission DataFrame to a CSV file\n",
        "submission.to_csv('/kaggle/working/submission.csv', index=False)"
      ],
      "metadata": {
        "execution": {
          "iopub.status.busy": "2024-06-06T16:22:11.652972Z",
          "iopub.execute_input": "2024-06-06T16:22:11.653383Z",
          "iopub.status.idle": "2024-06-06T16:22:11.690355Z",
          "shell.execute_reply.started": "2024-06-06T16:22:11.653326Z",
          "shell.execute_reply": "2024-06-06T16:22:11.689457Z"
        },
        "trusted": true,
        "id": "yMYj_TxfaDwi"
      },
      "execution_count": null,
      "outputs": []
    },
    {
      "cell_type": "code",
      "source": [],
      "metadata": {
        "id": "JKc4Du8yaDwi"
      },
      "execution_count": null,
      "outputs": []
    }
  ]
}